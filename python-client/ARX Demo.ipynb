{
 "cells": [
  {
   "cell_type": "code",
   "execution_count": 1,
   "metadata": {
    "collapsed": false,
    "scrolled": true
   },
   "outputs": [
    {
     "name": "stdout",
     "output_type": "stream",
     "text": [
      "Connected.  This client instance connected to server http://localhost:9099/v1 (version=TheReneNumber) as user test_api_key_1 at 2016-02-24 10:39:47.791126.\n"
     ]
    }
   ],
   "source": [
    "import trustedanalytics as ta\n",
    "ta.connect()"
   ]
  },
  {
   "cell_type": "markdown",
   "metadata": {},
   "source": [
    "### Create a frame with data that we'll use to train the ARX model\n",
    "\n",
    "The frame has columns for the observed value \"y\" and several other columns that contain exogenous variables (visitors, weekends, seasonality, etc).\n"
   ]
  },
  {
   "cell_type": "code",
   "execution_count": 2,
   "metadata": {
    "collapsed": false
   },
   "outputs": [
    {
     "name": "stdout",
     "output_type": "stream",
     "text": [
      "\r",
      "                                                                                \r",
      "Done [=========================] 100.00% Time 00:00:01\n"
     ]
    }
   ],
   "source": [
    "schema = [(\"y\", ta.float64),(\"visitors\", ta.float64),(\"wkends\", ta.float64),(\"seasonality\", ta.float64),(\"incidentRate\", ta.float64), (\"holidayFlag\", ta.float64),(\"postHolidayFlag\", ta.float64),(\"mintemp\", ta.float64)]\n",
    "csv = ta.CsvFile(\"train_atk.csv\", schema=schema, skip_header_lines=1)\n",
    "frame = ta.Frame(csv)"
   ]
  },
  {
   "cell_type": "code",
   "execution_count": 3,
   "metadata": {
    "collapsed": false,
    "scrolled": true
   },
   "outputs": [
    {
     "data": {
      "text/plain": [
       "[#]  y      visitors  wkends  seasonality  incidentRate  holidayFlag\n",
       "====================================================================\n",
       "[0]   93.0     416.0     0.0  0.006103106          28.0          0.0\n",
       "[1]   82.0     393.0     0.0  0.005381233          28.0          0.0\n",
       "[2]  109.0     444.0     0.0  0.007153103          28.0          0.0\n",
       "[3]  110.0     445.0     0.0  0.007218727          28.0          0.0\n",
       "[4]  109.0     426.0     1.0  0.007153103          28.0          0.0\n",
       "[5]   84.0     435.0     1.0  0.005512483          28.0          0.0\n",
       "[6]  100.0     471.0     0.0  0.006562479          29.0          0.0\n",
       "[7]   91.0     397.0     0.0  0.005971856          29.0          0.0\n",
       "[8]  119.0     454.0     0.0  0.007809351          29.0          0.0\n",
       "[9]   78.0     416.0     0.0  0.005118734          29.0          0.0\n",
       "\n",
       "[#]  postHolidayFlag  mintemp\n",
       "=============================\n",
       "[0]              0.0     55.0\n",
       "[1]              0.0     57.0\n",
       "[2]              0.0     53.0\n",
       "[3]              0.0     55.0\n",
       "[4]              0.0     57.0\n",
       "[5]              0.0     50.0\n",
       "[6]              0.0     50.0\n",
       "[7]              0.0     53.0\n",
       "[8]              0.0     51.0\n",
       "[9]              0.0     55.0"
      ]
     },
     "execution_count": 3,
     "metadata": {},
     "output_type": "execute_result"
    }
   ],
   "source": [
    "frame.inspect()"
   ]
  },
  {
   "cell_type": "markdown",
   "metadata": {},
   "source": [
    "### Create and train the model\n",
    "\n",
    "Create an ARX model, and then train the model by providing the frame of data, the \"y\" column, a list of \"x\" columns, y max lag, x max lag, and a boolean flag indicating if the intercept should be dropped.\n",
    "\n",
    "The ARX model train() return 'c' (an intercept term, or 0 for no intercept) and a list of coefficients (one for each \"x\" column).  \n"
   ]
  },
  {
   "cell_type": "code",
   "execution_count": 4,
   "metadata": {
    "collapsed": false
   },
   "outputs": [
    {
     "name": "stdout",
     "output_type": "stream",
     "text": [
      "Done [=========================] 100.00% Time 00:00:01\n",
      "Done [=========================] 100.00% Time 00:00:02\n"
     ]
    },
    {
     "data": {
      "text/plain": [
       "{u'c': 0.0,\n",
       " u'coefficients': [-1.136026484226831e-08,\n",
       "  8.637677568908233e-07,\n",
       "  15238.143039368977,\n",
       "  -7.993535860373772e-09,\n",
       "  -5.198597570089805e-07,\n",
       "  1.5691547009557947e-08,\n",
       "  7.409621376205488e-08]}"
      ]
     },
     "execution_count": 4,
     "metadata": {},
     "output_type": "execute_result"
    }
   ],
   "source": [
    "arx = ta.ArxModel()\n",
    "y_column = \"y\"\n",
    "x_columns = [\"visitors\",\"wkends\",\"seasonality\",\"incidentRate\",\"holidayFlag\",\"postHolidayFlag\",\"mintemp\"]\n",
    "y_max_lag = 0\n",
    "x_max_lag = 0\n",
    "no_intercept = True\n",
    "arx.train(frame, y_column, x_columns, y_max_lag, x_max_lag, no_intercept)"
   ]
  },
  {
   "cell_type": "markdown",
   "metadata": {},
   "source": [
    "So, in this example the coefficients are:\n",
    "\n",
    "| x              | coefficient            |\n",
    "|----------------|------------------------|\n",
    "| vistors        | -1.136026484226831e-08 |\n",
    "|wkends          |  8.637677568908233e-07 |\n",
    "|seasonality     |  15238.143039368977    |\n",
    "|incidentRate    | -7.993535860373772e-09 |\n",
    "|holidayFlag     | -5.198597570089805e-07 |\n",
    "|postHolidayFlag |  1.5691547009557947e-08|\n",
    "|mintemp:        |  7.409621376205488e-08 |\n",
    "\n",
    "\n",
    "### Create a frame that contains test data\n",
    "\n",
    "The test data is in test_atk.csv and has the same schema that we used for training."
   ]
  },
  {
   "cell_type": "code",
   "execution_count": 5,
   "metadata": {
    "collapsed": false
   },
   "outputs": [
    {
     "name": "stdout",
     "output_type": "stream",
     "text": [
      "\r",
      "                                                                                \r",
      "Done [=========================] 100.00% Time 00:00:02\n"
     ]
    },
    {
     "data": {
      "text/plain": [
       "[#]  y      visitors  wkends  seasonality  incidentRate  holidayFlag\n",
       "====================================================================\n",
       "[0]  100.0     465.0     1.0  0.006562479          24.0          1.0\n",
       "[1]   98.0     453.0     1.0   0.00643123          24.0          0.0\n",
       "[2]  102.0     472.0     0.0  0.006693729          25.0          0.0\n",
       "[3]   98.0     454.0     0.0   0.00643123          25.0          0.0\n",
       "[4]  112.0     432.0     0.0  0.007349977          25.0          0.0\n",
       "[5]   99.0     431.0     0.0  0.006496855          25.0          0.0\n",
       "[6]   99.0     475.0     0.0  0.006496855          25.0          0.0\n",
       "[7]   87.0     393.0     1.0  0.005709357          25.0          0.0\n",
       "[8]  103.0     437.0     1.0  0.006759354          25.0          0.0\n",
       "[9]  115.0     537.0     0.0  0.007546851          23.0          0.0\n",
       "\n",
       "[#]  postHolidayFlag  mintemp\n",
       "=============================\n",
       "[0]              0.0     51.0\n",
       "[1]              1.0     54.0\n",
       "[2]              0.0     49.0\n",
       "[3]              0.0     46.0\n",
       "[4]              0.0     42.0\n",
       "[5]              0.0     41.0\n",
       "[6]              0.0     45.0\n",
       "[7]              0.0     46.0\n",
       "[8]              0.0     48.0\n",
       "[9]              0.0     41.0"
      ]
     },
     "execution_count": 5,
     "metadata": {},
     "output_type": "execute_result"
    }
   ],
   "source": [
    "test_csv = ta.CsvFile(\"test_atk.csv\", schema=schema, skip_header_lines=1)\n",
    "test_frame = ta.Frame(test_csv)\n",
    "test_frame.inspect()"
   ]
  },
  {
   "cell_type": "markdown",
   "metadata": {},
   "source": [
    "### Predict\n",
    "\n",
    "Using the frame of test data, run ARX predict()."
   ]
  },
  {
   "cell_type": "code",
   "execution_count": 6,
   "metadata": {
    "collapsed": false
   },
   "outputs": [
    {
     "name": "stdout",
     "output_type": "stream",
     "text": [
      "\r",
      "                                                                                \r",
      "Done [=========================] 100.00% Time 00:00:02\n"
     ]
    },
    {
     "data": {
      "text/plain": [
       "[##]  y      predicted_y  \n",
       "==========================\n",
       "[0]   100.0  99.9999923433\n",
       "[1]    98.0  98.0000022017\n",
       "[2]   102.0  101.999998038\n",
       "[3]    98.0  98.0000007101\n",
       "[4]   112.0  111.999998867\n",
       "[5]    99.0  99.0000037379\n",
       "[6]    99.0  99.0000035344\n",
       "[7]    87.0  99.9999923433\n",
       "[8]   103.0  98.0000022017\n",
       "[9]   115.0  101.999998038\n",
       "[10]  101.0  98.0000007101\n",
       "[11]  125.0  111.999998867\n",
       "[12]  117.0  99.0000037379\n",
       "[13]  109.0  99.0000035344\n",
       "[14]  111.0  86.9999982366\n",
       "[15]  105.0  103.000002362"
      ]
     },
     "execution_count": 6,
     "metadata": {},
     "output_type": "execute_result"
    }
   ],
   "source": [
    "p = arx.predict(test_frame, y_column, x_columns)\n",
    "p.inspect(n=p.row_count,columns=[\"y\", \"predicted_y\"])"
   ]
  },
  {
   "cell_type": "code",
   "execution_count": 7,
   "metadata": {
    "collapsed": false
   },
   "outputs": [
    {
     "name": "stdout",
     "output_type": "stream",
     "text": [
      "\r",
      "                                                                                \r",
      "Done [=========================] 100.00% Time 00:00:02\n"
     ]
    },
    {
     "data": {
      "text/plain": [
       "{u'category': u'model',\n",
       " u'dataSample': u'',\n",
       " u'format': u'tar',\n",
       " u'isPublic': False,\n",
       " u'recordCount': 0,\n",
       " u'size': 214773760,\n",
       " u'sourceUri': u'hdfs://ATK-WSA:8020/user/atkuser/models_ffdf82616a0144b7938044ad37c3c276.tar',\n",
       " u'targetUri': u'hdfs://ATK-WSA:8020/user/atkuser/models_ffdf82616a0144b7938044ad37c3c276.tar',\n",
       " u'title': u'arx_model'}"
      ]
     },
     "execution_count": 7,
     "metadata": {},
     "output_type": "execute_result"
    }
   ],
   "source": [
    "arx.publish()"
   ]
  },
  {
   "cell_type": "code",
   "execution_count": null,
   "metadata": {
    "collapsed": true
   },
   "outputs": [],
   "source": []
  }
 ],
 "metadata": {
  "kernelspec": {
   "display_name": "Python 2",
   "language": "python",
   "name": "python2"
  },
  "language_info": {
   "codemirror_mode": {
    "name": "ipython",
    "version": 2
   },
   "file_extension": ".py",
   "mimetype": "text/x-python",
   "name": "python",
   "nbconvert_exporter": "python",
   "pygments_lexer": "ipython2",
   "version": "2.7.5"
  }
 },
 "nbformat": 4,
 "nbformat_minor": 0
}
